{
 "cells": [
  {
   "cell_type": "code",
   "execution_count": 1,
   "metadata": {},
   "outputs": [
    {
     "name": "stdout",
     "output_type": "stream",
     "text": [
      "That log file already exists. Please turn on the overwrite option \n",
      "when you use the Log_file class if you want a new object. Else dismiss.\n",
      "That coordinates file already exists. Please turn on the overwrite option \n",
      "when you use the CPs_file class if you want a new object. Else dismiss.\n"
     ]
    }
   ],
   "source": [
    "import main\n",
    "import pandas as pd\n",
    "import data\n",
    "\n",
    "the_log_file = main.Log_file(data.log_filename)\n",
    "the_CPs_file = main.CPs_file(data.CPs_filename)\n",
    "\n",
    "CPs = pd.read_csv(data.localities_file)['CP'].drop_duplicates().reset_index(drop= True)\n",
    "\n",
    "batched_CPs = main.batcher(CPs, data.batch_length)"
   ]
  },
  {
   "cell_type": "code",
   "execution_count": 2,
   "metadata": {},
   "outputs": [
    {
     "name": "stdout",
     "output_type": "stream",
     "text": [
      "batch 4 computed\n"
     ]
    },
    {
     "data": {
      "text/plain": [
       "OrderedDict([(1013, [-34.60030656666667, -58.38567821111111]),\n",
       "             (1014, [-34.59166073, -58.38493167000001]),\n",
       "             (1015, [-34.60314788, -58.386478139999994])])"
      ]
     },
     "execution_count": 2,
     "metadata": {},
     "output_type": "execute_result"
    }
   ],
   "source": [
    "batch_dic = main.scrap_step(batched_CPs, the_log_file, the_CPs_file)\n",
    "batch_dic"
   ]
  },
  {
   "cell_type": "code",
   "execution_count": null,
   "metadata": {},
   "outputs": [],
   "source": []
  }
 ],
 "metadata": {
  "kernelspec": {
   "display_name": "GeoZipArgentina",
   "language": "python",
   "name": "python3"
  },
  "language_info": {
   "codemirror_mode": {
    "name": "ipython",
    "version": 3
   },
   "file_extension": ".py",
   "mimetype": "text/x-python",
   "name": "python",
   "nbconvert_exporter": "python",
   "pygments_lexer": "ipython3",
   "version": "3.11.3"
  },
  "orig_nbformat": 4
 },
 "nbformat": 4,
 "nbformat_minor": 2
}
