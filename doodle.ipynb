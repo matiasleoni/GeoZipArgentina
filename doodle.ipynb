{
 "cells": [
  {
   "cell_type": "code",
   "execution_count": 18,
   "metadata": {},
   "outputs": [],
   "source": [
    "number_of_CPs = 3448\n",
    "number_of_batches = 30"
   ]
  },
  {
   "cell_type": "code",
   "execution_count": 19,
   "metadata": {},
   "outputs": [
    {
     "data": {
      "text/plain": [
       "115"
      ]
     },
     "execution_count": 19,
     "metadata": {},
     "output_type": "execute_result"
    }
   ],
   "source": [
    "import math \n",
    "batch_size = math.ceil(number_of_CPs/number_of_batches)\n",
    "batch_size"
   ]
  },
  {
   "cell_type": "code",
   "execution_count": 21,
   "metadata": {},
   "outputs": [
    {
     "data": {
      "text/plain": [
       "True"
      ]
     },
     "execution_count": 21,
     "metadata": {},
     "output_type": "execute_result"
    }
   ],
   "source": [
    "batch_size*29+(batch_size-2) == number_of_CPs"
   ]
  },
  {
   "cell_type": "code",
   "execution_count": 22,
   "metadata": {},
   "outputs": [
    {
     "data": {
      "text/plain": [
       "[(0, 115),\n",
       " (115, 230),\n",
       " (230, 345),\n",
       " (345, 460),\n",
       " (460, 575),\n",
       " (575, 690),\n",
       " (690, 805),\n",
       " (805, 920),\n",
       " (920, 1035),\n",
       " (1035, 1150),\n",
       " (1150, 1265),\n",
       " (1265, 1380),\n",
       " (1380, 1495),\n",
       " (1495, 1610),\n",
       " (1610, 1725),\n",
       " (1725, 1840),\n",
       " (1840, 1955),\n",
       " (1955, 2070),\n",
       " (2070, 2185),\n",
       " (2185, 2300),\n",
       " (2300, 2415),\n",
       " (2415, 2530),\n",
       " (2530, 2645),\n",
       " (2645, 2760),\n",
       " (2760, 2875),\n",
       " (2875, 2990),\n",
       " (2990, 3105),\n",
       " (3105, 3220),\n",
       " (3220, 3335),\n",
       " (3335, 3448)]"
      ]
     },
     "execution_count": 22,
     "metadata": {},
     "output_type": "execute_result"
    }
   ],
   "source": [
    "intervals = [(n,n+batch_size) for n in range(0,number_of_CPs,batch_size)]\n",
    "intervals[-1] = (batch_size*(number_of_batches-1),number_of_CPs)\n",
    "intervals"
   ]
  },
  {
   "cell_type": "code",
   "execution_count": 23,
   "metadata": {},
   "outputs": [
    {
     "data": {
      "text/plain": [
       "3448"
      ]
     },
     "execution_count": 23,
     "metadata": {},
     "output_type": "execute_result"
    }
   ],
   "source": [
    "sum([len(range(*intervals[i])) for i in range(len(intervals))])"
   ]
  },
  {
   "cell_type": "code",
   "execution_count": null,
   "metadata": {},
   "outputs": [],
   "source": []
  }
 ],
 "metadata": {
  "kernelspec": {
   "display_name": "GeoZipArgentina",
   "language": "python",
   "name": "python3"
  },
  "language_info": {
   "codemirror_mode": {
    "name": "ipython",
    "version": 3
   },
   "file_extension": ".py",
   "mimetype": "text/x-python",
   "name": "python",
   "nbconvert_exporter": "python",
   "pygments_lexer": "ipython3",
   "version": "3.11.3"
  },
  "orig_nbformat": 4
 },
 "nbformat": 4,
 "nbformat_minor": 2
}
