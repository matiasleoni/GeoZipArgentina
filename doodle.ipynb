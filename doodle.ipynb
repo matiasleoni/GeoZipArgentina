{
 "cells": [
  {
   "cell_type": "code",
   "execution_count": 1,
   "metadata": {},
   "outputs": [
    {
     "name": "stdout",
     "output_type": "stream",
     "text": [
      "The File already exists. Please turn on the overwrite option \n",
      "when you use the Log_file class if you want a new object. Else dismiss.\n",
      "The File already exists. Please turn on the overwrite option \n",
      "when you use the Log_file class if you want a new object. Else dismiss.\n"
     ]
    }
   ],
   "source": [
    "import main\n",
    "import pandas as pd\n",
    "log_filename = \"log.csv\"\n",
    "CPs_filename = \"CPs_coordinates.csv\"\n",
    "the_log_file = main.Log_file(log_filename)\n",
    "the_CPs_file = main.CPs_file(CPs_filename)\n",
    "\n",
    "CPs = pd.read_csv(\"data/localities.csv\")['CP'].drop_duplicates().reset_index(drop= True)\n",
    "\n",
    "batch_length = 3\n",
    "batched_CPs = main.batcher(CPs, batch_length)"
   ]
  },
  {
   "cell_type": "code",
   "execution_count": 2,
   "metadata": {},
   "outputs": [
    {
     "name": "stdout",
     "output_type": "stream",
     "text": [
      "batch 3 computed\n"
     ]
    },
    {
     "data": {
      "text/plain": [
       "OrderedDict([(1010, [-34.5967569125, -58.386170275]),\n",
       "             (1011, [-34.5904668, -58.38233495555556]),\n",
       "             (1012, [-34.597520044444444, -58.38395082222222])])"
      ]
     },
     "execution_count": 2,
     "metadata": {},
     "output_type": "execute_result"
    }
   ],
   "source": [
    "batch_dic = main.scrap_step(batched_CPs, the_log_file, the_CPs_file)\n",
    "batch_dic"
   ]
  }
 ],
 "metadata": {
  "kernelspec": {
   "display_name": "GeoZipArgentina",
   "language": "python",
   "name": "python3"
  },
  "language_info": {
   "codemirror_mode": {
    "name": "ipython",
    "version": 3
   },
   "file_extension": ".py",
   "mimetype": "text/x-python",
   "name": "python",
   "nbconvert_exporter": "python",
   "pygments_lexer": "ipython3",
   "version": "3.11.3"
  },
  "orig_nbformat": 4
 },
 "nbformat": 4,
 "nbformat_minor": 2
}
